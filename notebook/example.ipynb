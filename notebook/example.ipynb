{
 "cells": [
  {
   "cell_type": "code",
   "execution_count": 1,
   "metadata": {},
   "outputs": [
    {
     "name": "stdout",
     "output_type": "stream",
     "text": [
      "hello\n"
     ]
    }
   ],
   "source": [
    "print('hello')"
   ]
  },
  {
   "cell_type": "code",
   "execution_count": 2,
   "metadata": {},
   "outputs": [],
   "source": [
    "import os"
   ]
  },
  {
   "cell_type": "code",
   "execution_count": 3,
   "metadata": {},
   "outputs": [
    {
     "data": {
      "text/plain": [
       "'c:\\\\Users\\\\prash\\\\Downloads\\\\Housing_mlops\\\\notebook'"
      ]
     },
     "execution_count": 3,
     "metadata": {},
     "output_type": "execute_result"
    }
   ],
   "source": [
    "os.getcwd()"
   ]
  },
  {
   "cell_type": "code",
   "execution_count": 4,
   "metadata": {},
   "outputs": [],
   "source": [
    "Root_DIR= os.getcwd()\n",
    "CONFIG_DIR=\"config\"\n",
    "CONFIG_FILE_NAME=\"config.yaml\"\n",
    "CONFIG_FILE_PATH=os.path.join(Root_DIR,CONFIG_DIR,CONFIG_FILE_NAME)"
   ]
  },
  {
   "cell_type": "code",
   "execution_count": 5,
   "metadata": {},
   "outputs": [
    {
     "data": {
      "text/plain": [
       "'c:\\\\Users\\\\prash\\\\Downloads\\\\Housing_mlops\\\\notebook\\\\config\\\\config.yaml'"
      ]
     },
     "execution_count": 5,
     "metadata": {},
     "output_type": "execute_result"
    }
   ],
   "source": [
    "CONFIG_FILE_PATH"
   ]
  },
  {
   "cell_type": "code",
   "execution_count": 6,
   "metadata": {},
   "outputs": [
    {
     "data": {
      "text/plain": [
       "'c:\\\\Users\\\\prash\\\\Downloads\\\\Housing_mlops\\\\notebook'"
      ]
     },
     "execution_count": 6,
     "metadata": {},
     "output_type": "execute_result"
    }
   ],
   "source": [
    "os.getcwd()"
   ]
  },
  {
   "cell_type": "code",
   "execution_count": 7,
   "metadata": {},
   "outputs": [],
   "source": [
    "os.chdir('c:\\\\Users\\\\prash\\\\Downloads\\\\Housing_mlops')"
   ]
  },
  {
   "cell_type": "code",
   "execution_count": 8,
   "metadata": {},
   "outputs": [],
   "source": [
    "from house.util.util import *"
   ]
  },
  {
   "cell_type": "code",
   "execution_count": 9,
   "metadata": {},
   "outputs": [
    {
     "ename": "HouseException",
     "evalue": "\n        Error occurred in script: \n        [ c:\\Users\\prash\\Downloads\\Housing_mlops\\house\\util\\util.py ] at \n        try block line number: [12] and exception block line number: [16] \n        error message: [[Errno 2] No such file or directory: 'c:\\\\Users\\\\prash\\\\Downloads\\\\Housing_mlops\\\\notebook\\\\config\\\\config.yaml']\n        ",
     "output_type": "error",
     "traceback": [
      "\u001b[1;31m---------------------------------------------------------------------------\u001b[0m",
      "\u001b[1;31mFileNotFoundError\u001b[0m                         Traceback (most recent call last)",
      "File \u001b[1;32mc:\\Users\\prash\\Downloads\\Housing_mlops\\house\\util\\util.py:12\u001b[0m, in \u001b[0;36mread_yaml_file\u001b[1;34m(file_path)\u001b[0m\n\u001b[0;32m     11\u001b[0m \u001b[38;5;28;01mtry\u001b[39;00m:\n\u001b[1;32m---> 12\u001b[0m     \u001b[38;5;28;01mwith\u001b[39;00m \u001b[38;5;28;43mopen\u001b[39;49m\u001b[43m(\u001b[49m\u001b[43mfile_path\u001b[49m\u001b[43m,\u001b[49m\u001b[38;5;124;43m\"\u001b[39;49m\u001b[38;5;124;43mrb\u001b[39;49m\u001b[38;5;124;43m\"\u001b[39;49m\u001b[43m)\u001b[49m \u001b[38;5;28;01mas\u001b[39;00m yaml_file:\n\u001b[0;32m     13\u001b[0m         \u001b[38;5;28;01mreturn\u001b[39;00m yaml\u001b[38;5;241m.\u001b[39msafe_load(yaml_file)\n",
      "\u001b[1;31mFileNotFoundError\u001b[0m: [Errno 2] No such file or directory: 'c:\\\\Users\\\\prash\\\\Downloads\\\\Housing_mlops\\\\notebook\\\\config\\\\config.yaml'",
      "\nThe above exception was the direct cause of the following exception:\n",
      "\u001b[1;31mHouseException\u001b[0m                            Traceback (most recent call last)",
      "Cell \u001b[1;32mIn[9], line 1\u001b[0m\n\u001b[1;32m----> 1\u001b[0m file\u001b[38;5;241m=\u001b[39m\u001b[43mread_yaml_file\u001b[49m\u001b[43m(\u001b[49m\u001b[43mCONFIG_FILE_PATH\u001b[49m\u001b[43m)\u001b[49m\n",
      "File \u001b[1;32mc:\\Users\\prash\\Downloads\\Housing_mlops\\house\\util\\util.py:16\u001b[0m, in \u001b[0;36mread_yaml_file\u001b[1;34m(file_path)\u001b[0m\n\u001b[0;32m     13\u001b[0m         \u001b[38;5;28;01mreturn\u001b[39;00m yaml\u001b[38;5;241m.\u001b[39msafe_load(yaml_file)\n\u001b[0;32m     15\u001b[0m \u001b[38;5;28;01mexcept\u001b[39;00m \u001b[38;5;167;01mException\u001b[39;00m \u001b[38;5;28;01mas\u001b[39;00m e:\n\u001b[1;32m---> 16\u001b[0m     \u001b[38;5;28;01mraise\u001b[39;00m HouseException(e,sys) \u001b[38;5;28;01mfrom\u001b[39;00m \u001b[38;5;21;01me\u001b[39;00m\n",
      "\u001b[1;31mHouseException\u001b[0m: \n        Error occurred in script: \n        [ c:\\Users\\prash\\Downloads\\Housing_mlops\\house\\util\\util.py ] at \n        try block line number: [12] and exception block line number: [16] \n        error message: [[Errno 2] No such file or directory: 'c:\\\\Users\\\\prash\\\\Downloads\\\\Housing_mlops\\\\notebook\\\\config\\\\config.yaml']\n        "
     ]
    }
   ],
   "source": [
    "file=read_yaml_file(CONFIG_FILE_PATH)"
   ]
  },
  {
   "cell_type": "code",
   "execution_count": null,
   "metadata": {},
   "outputs": [
    {
     "data": {
      "text/plain": [
       "{'training_pipeline_config': {'pipeline_name': 'housing',\n",
       "  'artifact_dir': 'artifact'},\n",
       " 'data_ingestion_config': {'dataset_download_url': 'https://raw.githubusercontent.com/ageron/handson-ml/master/datasets/housing/housing.tgz',\n",
       "  'raw_data_dir': 'raw_data',\n",
       "  'tgz_download_dir': 'tgz_data',\n",
       "  'ingested_dir': 'ingested_data',\n",
       "  'ingested_train_dir': 'train',\n",
       "  'ingested_test_dir': 'test'},\n",
       " 'data_validation_config': {'schema_dir': 'config',\n",
       "  'schema_file_name': 'schema.yaml',\n",
       "  'report_file_name': 'report.json',\n",
       "  'report_page_file_name': 'report.html'},\n",
       " 'data_transformation_config': {'add_bedroom_per_room': True,\n",
       "  'transformed_dir': 'transformed_data',\n",
       "  'transformed_train_dir': 'train',\n",
       "  'transformed_test_dir': 'test',\n",
       "  'preprocessing_dir': 'preprocessed',\n",
       "  'preprocessed_object_file_name': 'preprocessed.pkl'},\n",
       " 'model_trainer_config': {'trained_model_dir': 'trained_model',\n",
       "  'model_file_name': 'model.pkl',\n",
       "  'base_accuracy': 0.6,\n",
       "  'model_config_dir': 'config',\n",
       "  'model_config_file_name': 'model.yaml'},\n",
       " 'model_evaluation_config': {'model_evaluation_file_name': 'model_evaluation.yaml'},\n",
       " 'model_pusher_config': {'model_export_dir': 'saved_models'}}"
      ]
     },
     "execution_count": 17,
     "metadata": {},
     "output_type": "execute_result"
    }
   ],
   "source": [
    "file"
   ]
  },
  {
   "cell_type": "code",
   "execution_count": null,
   "metadata": {},
   "outputs": [],
   "source": [
    "from house.config.configuration import Configuration\n"
   ]
  },
  {
   "cell_type": "code",
   "execution_count": null,
   "metadata": {},
   "outputs": [],
   "source": [
    "config=Configuration(config_file_path=CONFIG_FILE_PATH)"
   ]
  },
  {
   "cell_type": "code",
   "execution_count": null,
   "metadata": {},
   "outputs": [],
   "source": [
    "training_pipeline_config=config.get_training_pipeline_config()"
   ]
  },
  {
   "cell_type": "code",
   "execution_count": null,
   "metadata": {},
   "outputs": [],
   "source": [
    "from house.component.data_ingestion import DataIngestion\n",
    "from house.config.configuration import Configuration\n"
   ]
  },
  {
   "cell_type": "code",
   "execution_count": null,
   "metadata": {},
   "outputs": [],
   "source": [
    "from house.entity.artifact_entity import DataIngestionArtifact\n",
    "from house.component.data_ingestion import DataIngestion\n",
    "from house.config.configuration import Configuration\n",
    "\n"
   ]
  },
  {
   "cell_type": "code",
   "execution_count": null,
   "metadata": {},
   "outputs": [],
   "source": [
    "config=Configuration()"
   ]
  },
  {
   "cell_type": "code",
   "execution_count": null,
   "metadata": {},
   "outputs": [],
   "source": [
    "ingestion=DataIngestion(config)"
   ]
  },
  {
   "cell_type": "code",
   "execution_count": null,
   "metadata": {},
   "outputs": [],
   "source": [
    "Artifact=ingestion.split_the_data_as_train_test()"
   ]
  },
  {
   "cell_type": "code",
   "execution_count": null,
   "metadata": {},
   "outputs": [
    {
     "data": {
      "text/plain": [
       "'c:\\\\Users\\\\prash\\\\Downloads\\\\Housing_mlops\\\\housing\\\\artifact\\\\data_ingestion\\\\2024-05-02-22-00-43\\\\ingested_data\\\\train\\\\housing.csv'"
      ]
     },
     "execution_count": 91,
     "metadata": {},
     "output_type": "execute_result"
    }
   ],
   "source": [
    "Artifact.train_file_path"
   ]
  },
  {
   "cell_type": "code",
   "execution_count": null,
   "metadata": {},
   "outputs": [],
   "source": [
    "import pandas as pd \n",
    "housing_data_frame=pd.read_csv(Artifact.train_file_path)"
   ]
  },
  {
   "cell_type": "code",
   "execution_count": null,
   "metadata": {},
   "outputs": [
    {
     "data": {
      "text/plain": [
       "(Index(['longitude', 'latitude', 'housing_median_age', 'total_rooms',\n",
       "        'total_bedrooms', 'population', 'households', 'median_income',\n",
       "        'median_house_value', 'ocean_proximity'],\n",
       "       dtype='object'),\n",
       " array([dtype('float64'), dtype('float64'), dtype('float64'),\n",
       "        dtype('float64'), dtype('float64'), dtype('float64'),\n",
       "        dtype('float64'), dtype('float64'), dtype('float64'), dtype('O')],\n",
       "       dtype=object))"
      ]
     },
     "execution_count": 93,
     "metadata": {},
     "output_type": "execute_result"
    }
   ],
   "source": [
    "housing_data_frame.dtypes.index,housing_data_frame.dtypes.values"
   ]
  },
  {
   "cell_type": "code",
   "execution_count": null,
   "metadata": {},
   "outputs": [],
   "source": [
    "data_types=list(map(lambda x: str(x).replace(\"dtype('\",\"\").replace(\"')\",\"\"),housing_data_frame.dtypes.values))"
   ]
  },
  {
   "cell_type": "code",
   "execution_count": null,
   "metadata": {},
   "outputs": [],
   "source": [
    "columns=housing_data_frame.columns"
   ]
  },
  {
   "cell_type": "code",
   "execution_count": null,
   "metadata": {},
   "outputs": [
    {
     "data": {
      "text/plain": [
       "{'longitude': 'float64',\n",
       " 'latitude': 'float64',\n",
       " 'housing_median_age': 'float64',\n",
       " 'total_rooms': 'float64',\n",
       " 'total_bedrooms': 'float64',\n",
       " 'population': 'float64',\n",
       " 'households': 'float64',\n",
       " 'median_income': 'float64',\n",
       " 'median_house_value': 'float64',\n",
       " 'ocean_proximity': 'object'}"
      ]
     },
     "execution_count": 98,
     "metadata": {},
     "output_type": "execute_result"
    }
   ],
   "source": [
    "dict(zip(columns,data_types))"
   ]
  },
  {
   "cell_type": "code",
   "execution_count": 19,
   "metadata": {},
   "outputs": [
    {
     "ename": "HouseException",
     "evalue": "\n        Error occurred in script: \n        [ c:\\Users\\prash\\Downloads\\Housing_mlops\\house\\component\\data_ingestion.py ] at \n        try block line number: [124] and exception block line number: [128] \n        error message: [\n        Error occurred in script: \n        [ c:\\Users\\prash\\Downloads\\Housing_mlops\\house\\component\\data_ingestion.py ] at \n        try block line number: [55] and exception block line number: [68] \n        error message: [[WinError 5] Access is denied: 'c:\\\\Users\\\\prash\\\\Downloads\\\\Housing_mlops\\\\housing\\\\artifact\\\\data_ingestion\\\\2024-05-06-23-22-20\\\\raw_data']\n        ]\n        ",
     "output_type": "error",
     "traceback": [
      "\u001b[1;31m---------------------------------------------------------------------------\u001b[0m",
      "\u001b[1;31mPermissionError\u001b[0m                           Traceback (most recent call last)",
      "File \u001b[1;32mc:\\Users\\prash\\Downloads\\Housing_mlops\\house\\component\\data_ingestion.py:55\u001b[0m, in \u001b[0;36mDataIngestion.extract_tgz_file\u001b[1;34m(self, tgz_file_path)\u001b[0m\n\u001b[0;32m     54\u001b[0m \u001b[38;5;28;01mif\u001b[39;00m os\u001b[38;5;241m.\u001b[39mpath\u001b[38;5;241m.\u001b[39mexists(raw_data_dir):\n\u001b[1;32m---> 55\u001b[0m     \u001b[43mos\u001b[49m\u001b[38;5;241;43m.\u001b[39;49m\u001b[43mremove\u001b[49m\u001b[43m(\u001b[49m\u001b[43mraw_data_dir\u001b[49m\u001b[43m)\u001b[49m\n\u001b[0;32m     57\u001b[0m os\u001b[38;5;241m.\u001b[39mmakedirs(raw_data_dir,exist_ok\u001b[38;5;241m=\u001b[39m\u001b[38;5;28;01mTrue\u001b[39;00m)\n",
      "\u001b[1;31mPermissionError\u001b[0m: [WinError 5] Access is denied: 'c:\\\\Users\\\\prash\\\\Downloads\\\\Housing_mlops\\\\housing\\\\artifact\\\\data_ingestion\\\\2024-05-06-23-22-20\\\\raw_data'",
      "\nThe above exception was the direct cause of the following exception:\n",
      "\u001b[1;31mHouseException\u001b[0m                            Traceback (most recent call last)",
      "File \u001b[1;32mc:\\Users\\prash\\Downloads\\Housing_mlops\\house\\component\\data_ingestion.py:124\u001b[0m, in \u001b[0;36mDataIngestion.initiate_data_ingestion\u001b[1;34m(self)\u001b[0m\n\u001b[0;32m    123\u001b[0m tgz_file_path\u001b[38;5;241m=\u001b[39m\u001b[38;5;28mself\u001b[39m\u001b[38;5;241m.\u001b[39mdownload_house_data()\n\u001b[1;32m--> 124\u001b[0m \u001b[38;5;28;43mself\u001b[39;49m\u001b[38;5;241;43m.\u001b[39;49m\u001b[43mextract_tgz_file\u001b[49m\u001b[43m(\u001b[49m\u001b[43mtgz_file_path\u001b[49m\u001b[38;5;241;43m=\u001b[39;49m\u001b[43mtgz_file_path\u001b[49m\u001b[43m)\u001b[49m\n\u001b[0;32m    125\u001b[0m \u001b[38;5;28;01mreturn\u001b[39;00m \u001b[38;5;28mself\u001b[39m\u001b[38;5;241m.\u001b[39msplit_the_data_as_train_test()\n",
      "File \u001b[1;32mc:\\Users\\prash\\Downloads\\Housing_mlops\\house\\component\\data_ingestion.py:68\u001b[0m, in \u001b[0;36mDataIngestion.extract_tgz_file\u001b[1;34m(self, tgz_file_path)\u001b[0m\n\u001b[0;32m     67\u001b[0m \u001b[38;5;28;01mexcept\u001b[39;00m \u001b[38;5;167;01mException\u001b[39;00m \u001b[38;5;28;01mas\u001b[39;00m e:\n\u001b[1;32m---> 68\u001b[0m     \u001b[38;5;28;01mraise\u001b[39;00m HouseException(e,sys) \u001b[38;5;28;01mfrom\u001b[39;00m \u001b[38;5;21;01me\u001b[39;00m\n",
      "\u001b[1;31mHouseException\u001b[0m: \n        Error occurred in script: \n        [ c:\\Users\\prash\\Downloads\\Housing_mlops\\house\\component\\data_ingestion.py ] at \n        try block line number: [55] and exception block line number: [68] \n        error message: [[WinError 5] Access is denied: 'c:\\\\Users\\\\prash\\\\Downloads\\\\Housing_mlops\\\\housing\\\\artifact\\\\data_ingestion\\\\2024-05-06-23-22-20\\\\raw_data']\n        ",
      "\nThe above exception was the direct cause of the following exception:\n",
      "\u001b[1;31mHouseException\u001b[0m                            Traceback (most recent call last)",
      "Cell \u001b[1;32mIn[19], line 3\u001b[0m\n\u001b[0;32m      1\u001b[0m \u001b[38;5;28;01mfrom\u001b[39;00m \u001b[38;5;21;01mhouse\u001b[39;00m\u001b[38;5;21;01m.\u001b[39;00m\u001b[38;5;21;01mcomponent\u001b[39;00m\u001b[38;5;21;01m.\u001b[39;00m\u001b[38;5;21;01mdata_ingestion\u001b[39;00m \u001b[38;5;28;01mimport\u001b[39;00m DataIngestion\n\u001b[0;32m      2\u001b[0m data_ingestion_artifact\u001b[38;5;241m=\u001b[39mDataIngestion()\n\u001b[1;32m----> 3\u001b[0m \u001b[43mdata_ingestion_artifact\u001b[49m\u001b[38;5;241;43m.\u001b[39;49m\u001b[43minitiate_data_ingestion\u001b[49m\u001b[43m(\u001b[49m\u001b[43m)\u001b[49m\u001b[38;5;241m.\u001b[39msplit_the_data_as_train_test()\n",
      "File \u001b[1;32mc:\\Users\\prash\\Downloads\\Housing_mlops\\house\\component\\data_ingestion.py:128\u001b[0m, in \u001b[0;36mDataIngestion.initiate_data_ingestion\u001b[1;34m(self)\u001b[0m\n\u001b[0;32m    125\u001b[0m     \u001b[38;5;28;01mreturn\u001b[39;00m \u001b[38;5;28mself\u001b[39m\u001b[38;5;241m.\u001b[39msplit_the_data_as_train_test()\n\u001b[0;32m    127\u001b[0m \u001b[38;5;28;01mexcept\u001b[39;00m \u001b[38;5;167;01mException\u001b[39;00m \u001b[38;5;28;01mas\u001b[39;00m e:\n\u001b[1;32m--> 128\u001b[0m     \u001b[38;5;28;01mraise\u001b[39;00m HouseException(e,sys) \u001b[38;5;28;01mfrom\u001b[39;00m \u001b[38;5;21;01me\u001b[39;00m\n",
      "\u001b[1;31mHouseException\u001b[0m: \n        Error occurred in script: \n        [ c:\\Users\\prash\\Downloads\\Housing_mlops\\house\\component\\data_ingestion.py ] at \n        try block line number: [124] and exception block line number: [128] \n        error message: [\n        Error occurred in script: \n        [ c:\\Users\\prash\\Downloads\\Housing_mlops\\house\\component\\data_ingestion.py ] at \n        try block line number: [55] and exception block line number: [68] \n        error message: [[WinError 5] Access is denied: 'c:\\\\Users\\\\prash\\\\Downloads\\\\Housing_mlops\\\\housing\\\\artifact\\\\data_ingestion\\\\2024-05-06-23-22-20\\\\raw_data']\n        ]\n        "
     ]
    }
   ],
   "source": [
    "from house.component.data_ingestion import DataIngestion\n",
    "data_ingestion_artifact=DataIngestion()\n",
    "data_ingestion_artifact.initiate_data_ingestion()\n",
    ".split_the_data_as_train_test()"
   ]
  },
  {
   "cell_type": "code",
   "execution_count": 16,
   "metadata": {},
   "outputs": [],
   "source": [
    "training=data_ingestion_artifact."
   ]
  },
  {
   "cell_type": "code",
   "execution_count": 17,
   "metadata": {},
   "outputs": [
    {
     "data": {
      "text/plain": [
       "'c:\\\\Users\\\\prash\\\\Downloads\\\\Housing_mlops\\\\housing\\\\artifact\\\\data_ingestion\\\\2024-05-06-23-22-20\\\\ingested_data\\\\train\\\\housing.csv'"
      ]
     },
     "execution_count": 17,
     "metadata": {},
     "output_type": "execute_result"
    }
   ],
   "source": [
    "training.train_file_path"
   ]
  },
  {
   "cell_type": "code",
   "execution_count": null,
   "metadata": {},
   "outputs": [],
   "source": []
  }
 ],
 "metadata": {
  "kernelspec": {
   "display_name": "Python 3",
   "language": "python",
   "name": "python3"
  },
  "language_info": {
   "codemirror_mode": {
    "name": "ipython",
    "version": 3
   },
   "file_extension": ".py",
   "mimetype": "text/x-python",
   "name": "python",
   "nbconvert_exporter": "python",
   "pygments_lexer": "ipython3",
   "version": "3.11.5"
  }
 },
 "nbformat": 4,
 "nbformat_minor": 2
}
